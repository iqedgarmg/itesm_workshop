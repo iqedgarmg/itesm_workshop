{
  "nbformat": 4,
  "nbformat_minor": 0,
  "metadata": {
    "colab": {
      "provenance": []
    },
    "kernelspec": {
      "name": "python3",
      "display_name": "Python 3"
    },
    "language_info": {
      "name": "python"
    }
  },
  "cells": [
    {
      "cell_type": "markdown",
      "source": [
        "## Ejemplo 3: Clasificación Semántica\n",
        "\n",
        "Charla: Potenciando la Inteligencia Artificial con ROS y OpenVINO\n",
        "\n",
        "Autor: Dr. Edgar Macías García \n",
        "\n",
        "Human Robot Collaboration Group\n",
        "\n",
        "Intel Labs"
      ],
      "metadata": {
        "id": "DbNKMWNMB2zU"
      }
    },
    {
      "cell_type": "markdown",
      "source": [
        "### 1.- Importar librerias"
      ],
      "metadata": {
        "id": "0QRF6nWDCGf-"
      }
    },
    {
      "cell_type": "code",
      "source": [
        "#Instalar dependencias\n",
        "!pip3 install openvino"
      ],
      "metadata": {
        "id": "zoxh-eZ2CWA3"
      },
      "execution_count": null,
      "outputs": []
    },
    {
      "cell_type": "code",
      "source": [
        "#Librerias basicas\n",
        "import numpy as np\n",
        "import matplotlib.pyplot as plt\n",
        "import os\n",
        "\n",
        "#Herramientas de manejo de imagenes\n",
        "from PIL import Image\n",
        "\n",
        "#Herramientas de manejo de directorios\n",
        "import glob\n",
        "\n",
        "#Importar OpenVINO\n",
        "from openvino.inference_engine import IENetwork\n",
        "from openvino.inference_engine import IECore"
      ],
      "metadata": {
        "id": "8vz02BkjB1-K"
      },
      "execution_count": null,
      "outputs": []
    },
    {
      "cell_type": "markdown",
      "source": [
        "### 2.- Importar repositorio"
      ],
      "metadata": {
        "id": "02jp6m2SCT3p"
      }
    },
    {
      "cell_type": "code",
      "execution_count": null,
      "metadata": {
        "id": "LK_G8oiqBwF2"
      },
      "outputs": [],
      "source": [
        "#Obtener repositorio de github\n",
        "!git clone https://github.com/iqedgarmg/itesm_workshop \n",
        "\n",
        "#Establecer directorio principal\n",
        "os.chdir('/content/itesm_workshop/ejemplos/semantica')"
      ]
    },
    {
      "cell_type": "markdown",
      "source": [
        "### 3.- Definir funcionas auxiliares"
      ],
      "metadata": {
        "id": "e2qJbYvDDkxv"
      }
    },
    {
      "cell_type": "markdown",
      "source": [
        "a) Preprocesamiento"
      ],
      "metadata": {
        "id": "uJ-1wuNuERNY"
      }
    },
    {
      "cell_type": "code",
      "source": [
        "#Preprocesar imagen\n",
        "def prep_image(img, mean, std, size):\n",
        "\n",
        "  #Redimensionar imagen\n",
        "  image = img.resize((size[0], size[1]))\n",
        "  img = np.array(image)\n",
        "    \n",
        "  #Reordenar a dimensiones de la red\n",
        "  img = img[np.newaxis, :, :, :].astype(np.float32)\n",
        "\n",
        "  #Preprocesamiento: Quitar media\n",
        "  img[0,:,:,0] -= mean[0]\n",
        "  img[0,:,:,1] -= mean[1]\n",
        "  img[0,:,:,2] -= mean[2]\n",
        "\n",
        "  #Preprocesamiento: Normalizar\n",
        "  img[0,:,:,0] /= std[0]\n",
        "  img[0,:,:,1] /= std[1]\n",
        "  img[0,:,:,2] /= std[2]\n",
        "\n",
        "  return img  "
      ],
      "metadata": {
        "id": "lyvCtR6oES4r"
      },
      "execution_count": null,
      "outputs": []
    },
    {
      "cell_type": "markdown",
      "source": [
        "b) Inferencia"
      ],
      "metadata": {
        "id": "dTVNLgAoD6KA"
      }
    },
    {
      "cell_type": "code",
      "source": [
        "#Cargar modelo a IR\n",
        "def load_ir_model(model_xml, model_bin):\n",
        "\n",
        "  #Cargar plugin de IE\n",
        "  plugin = IECore()\n",
        "\n",
        "  #Cargar modelo\n",
        "  net = plugin.read_network(model=model_xml, weights=model_bin)\n",
        "  exec_net = plugin.load_network(network=net, device_name=\"CPU\", num_requests=1)\n",
        "  print(\"Modelo cargado en IE\")\n",
        "  return exec_net\n",
        "\n",
        "#Syncrhonous inference\n",
        "def ir_inference(executable_net, image):\n",
        "\n",
        "  #Get input blob for the inference request\n",
        "  input_blob = next(iter(executable_net.input_info))\n",
        "\n",
        "  #Perform synchronous inference\n",
        "  result = executable_net.infer(inputs = {input_blob: image})\n",
        "\n",
        "  return result"
      ],
      "metadata": {
        "id": "Nv3H4oueDpzw"
      },
      "execution_count": null,
      "outputs": []
    },
    {
      "cell_type": "markdown",
      "source": [
        "c) Post-procesamiento"
      ],
      "metadata": {
        "id": "NEI3v_oME2ic"
      }
    },
    {
      "cell_type": "code",
      "source": [
        "#Obtener segmentacion\n",
        "def get_segmentation(out_ov, size):\n",
        "\n",
        "  #Filtrar clases\n",
        "  im_out_ov = np.zeros(out_ov.shape[0]).astype(\"uint8\")\n",
        "  for j in range(out_ov.shape[0]):\n",
        "\n",
        "    #Obtener clase de pixel\n",
        "    index = np.argmax(out_ov[j,:])\n",
        "    im_out_ov[j] = index\n",
        "    \n",
        "  #Redimensionar imagen\n",
        "  im_out_ov = im_out_ov.reshape([size[0], size[1]])\n",
        "\n",
        "  return im_out_ov"
      ],
      "metadata": {
        "id": "G2WJo4kcE2EU"
      },
      "execution_count": null,
      "outputs": []
    },
    {
      "cell_type": "markdown",
      "source": [
        "### 4.- Cargar datos"
      ],
      "metadata": {
        "id": "s1CE0nzFGr5s"
      }
    },
    {
      "cell_type": "code",
      "source": [
        "#Cargar ruta de imagenes de prueba\n",
        "path = glob.glob(\"images/*.png\")\n",
        "\n",
        "print(\"Datos de entrada: \" + str(len(path)))\n",
        "\n",
        "#Mostrar ejemplo\n",
        "img = Image.open(path[0])\n",
        "print(\"Dimensiones: \" + str(img.size))\n",
        "\n",
        "plt.figure(1, figsize=(5,5))\n",
        "plt.imshow(img)"
      ],
      "metadata": {
        "id": "_-puTEJKGvlW"
      },
      "execution_count": null,
      "outputs": []
    },
    {
      "cell_type": "markdown",
      "source": [
        "5.- Cargar modelo"
      ],
      "metadata": {
        "id": "wo0EFDutIY57"
      }
    },
    {
      "cell_type": "code",
      "source": [
        "#Crear instancia del modelo\n",
        "\n",
        "\n",
        "#Imprimir informacion del modelo\n"
      ],
      "metadata": {
        "id": "55B8MdbwIbcY"
      },
      "execution_count": null,
      "outputs": []
    },
    {
      "cell_type": "markdown",
      "source": [
        "6.- Procesar entradas"
      ],
      "metadata": {
        "id": "sV_yIntWIzHL"
      }
    },
    {
      "cell_type": "code",
      "source": [
        "#Leer imagen\n",
        "\n",
        "\n",
        "#Preprocesar entrada\n",
        "\n",
        "\n",
        "#Ejecutar inferencia\n",
        "\n",
        "\n",
        "#Correr post-procesamiento (Interpretar salida)\n",
        "\n",
        "\n",
        "#Imprimir figura\n",
        "plt.figure(1)\n",
        "plt.subplot(1, 2, 1)\n",
        "plt.imshow(img_rgb)\n",
        "plt.subplot(1, 2, 2)\n",
        "plt.imshow(img_seg)\n",
        "plt.show()"
      ],
      "metadata": {
        "id": "0jz0KEWJI0u1"
      },
      "execution_count": null,
      "outputs": []
    }
  ]
}